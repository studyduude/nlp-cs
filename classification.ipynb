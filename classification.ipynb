{
 "cells": [
  {
   "cell_type": "code",
   "execution_count": 1,
   "metadata": {},
   "outputs": [
    {
     "name": "stderr",
     "output_type": "stream",
     "text": [
      "2024-04-17 22:14:33.951338: I tensorflow/core/platform/cpu_feature_guard.cc:182] This TensorFlow binary is optimized to use available CPU instructions in performance-critical operations.\n",
      "To enable the following instructions: AVX2 FMA, in other operations, rebuild TensorFlow with the appropriate compiler flags.\n"
     ]
    }
   ],
   "source": [
    "from transformers import BertTokenizer, BertForSequenceClassification, Trainer, TrainingArguments\n",
    "from sklearn.model_selection import train_test_split\n",
    "import pandas as pd\n",
    "import torch\n",
    "import json"
   ]
  },
  {
   "cell_type": "code",
   "execution_count": 2,
   "metadata": {},
   "outputs": [],
   "source": [
    "submission_file = 'submissions/predicted_test_categories.csv'\n",
    "epoch = 300\n",
    "n_correction = 20"
   ]
  },
  {
   "cell_type": "code",
   "execution_count": 3,
   "metadata": {},
   "outputs": [
    {
     "name": "stdout",
     "output_type": "stream",
     "text": [
      "[0, 0, 0, 1, 1, 1, 2, 2, 2, 3, 3, 3, 4, 4, 4, 5, 5, 5, 6, 6, 6, 7, 7, 7, 8, 8, 8, 9, 9, 9, 10, 10, 10, 11, 11, 11]\n"
     ]
    }
   ],
   "source": [
    "# Catégories et textes\n",
    "categories = [\"Politics\", \"Health\", \"Finance\", \"Travel\", \"Food\", \"Education\", \"Environment\", \"Fashion\", \"Science\", \"Sports\", \"Technology\", \"Entertainment\"]\n",
    "with open('data/train.json') as f:\n",
    "    data = json.load(f)\n",
    "\n",
    "# Création d'une liste de phrases et de labels\n",
    "texts = []\n",
    "labels = []\n",
    "for label, texts_list in data.items():\n",
    "    for text in texts_list:\n",
    "        texts.append(text)\n",
    "        labels.append(categories.index(label))\n",
    "\n",
    "print(labels)"
   ]
  },
  {
   "cell_type": "code",
   "execution_count": 4,
   "metadata": {},
   "outputs": [],
   "source": [
    "# Préparation des données pour BERT\n",
    "class Dataset(torch.utils.data.Dataset):\n",
    "    def __init__(self, encodings, labels):\n",
    "        self.encodings = encodings\n",
    "        self.labels = labels\n",
    "\n",
    "    def __getitem__(self, idx):\n",
    "        item = {key: torch.tensor(val[idx]) for key, val in self.encodings.items()}\n",
    "        item['labels'] = torch.tensor(self.labels[idx])\n",
    "        return item\n",
    "\n",
    "    def __len__(self):\n",
    "        return len(self.labels)"
   ]
  },
  {
   "cell_type": "code",
   "execution_count": 5,
   "metadata": {},
   "outputs": [],
   "source": [
    "# Tokenisation des textes\n",
    "tokenizer = BertTokenizer.from_pretrained('bert-base-uncased')\n",
    "inputs = tokenizer(texts, padding=True, truncation=True, max_length=512, return_tensors=\"pt\")\n",
    "labels = torch.tensor(labels)"
   ]
  },
  {
   "cell_type": "code",
   "execution_count": 6,
   "metadata": {},
   "outputs": [],
   "source": [
    "# Création du dataset\n",
    "dataset = Dataset(inputs, labels)\n",
    "\n",
    "# Division en ensemble d'entraînement et de validation\n",
    "train_size = int(0.8 * len(dataset))\n",
    "val_size = len(dataset) - train_size\n",
    "train_dataset, val_dataset = torch.utils.data.random_split(dataset, [train_size, val_size])\n"
   ]
  },
  {
   "cell_type": "code",
   "execution_count": 7,
   "metadata": {},
   "outputs": [
    {
     "name": "stderr",
     "output_type": "stream",
     "text": [
      "Some weights of BertForSequenceClassification were not initialized from the model checkpoint at bert-base-uncased and are newly initialized: ['classifier.bias', 'classifier.weight']\n",
      "You should probably TRAIN this model on a down-stream task to be able to use it for predictions and inference.\n"
     ]
    }
   ],
   "source": [
    "# Entraînement de BERT\n",
    "model = BertForSequenceClassification.from_pretrained('bert-base-uncased', num_labels=len(categories))\n"
   ]
  },
  {
   "cell_type": "code",
   "execution_count": 8,
   "metadata": {},
   "outputs": [],
   "source": [
    "from transformers import DataCollatorWithPadding\n",
    "\n",
    "# Création d'un data collator qui s'occupe du padding automatiquement\n",
    "data_collator = DataCollatorWithPadding(tokenizer=tokenizer)\n"
   ]
  },
  {
   "cell_type": "code",
   "execution_count": 9,
   "metadata": {},
   "outputs": [
    {
     "name": "stderr",
     "output_type": "stream",
     "text": [
      "/Users/huacindy/.pyenv/versions/3.9.13/envs/project1/lib/python3.9/site-packages/accelerate/accelerator.py:432: FutureWarning: Passing the following arguments to `Accelerator` is deprecated and will be removed in version 1.0 of Accelerate: dict_keys(['dispatch_batches', 'split_batches', 'even_batches', 'use_seedable_sampler']). Please pass an `accelerate.DataLoaderConfiguration` instead: \n",
      "dataloader_config = DataLoaderConfiguration(dispatch_batches=None, split_batches=False, even_batches=True, use_seedable_sampler=True)\n",
      "  warnings.warn(\n"
     ]
    },
    {
     "data": {
      "application/vnd.jupyter.widget-view+json": {
       "model_id": "f6eeacdcc0e1455e8021e80fbf4548a8",
       "version_major": 2,
       "version_minor": 0
      },
      "text/plain": [
       "  0%|          | 0/1200 [00:00<?, ?it/s]"
      ]
     },
     "metadata": {},
     "output_type": "display_data"
    },
    {
     "name": "stderr",
     "output_type": "stream",
     "text": [
      "/var/folders/cs/psfrdkk11fs7y77xly1msbxw0000gn/T/ipykernel_74194/1006235797.py:8: UserWarning: To copy construct from a tensor, it is recommended to use sourceTensor.clone().detach() or sourceTensor.clone().detach().requires_grad_(True), rather than torch.tensor(sourceTensor).\n",
      "  item = {key: torch.tensor(val[idx]) for key, val in self.encodings.items()}\n",
      "/var/folders/cs/psfrdkk11fs7y77xly1msbxw0000gn/T/ipykernel_74194/1006235797.py:9: UserWarning: To copy construct from a tensor, it is recommended to use sourceTensor.clone().detach() or sourceTensor.clone().detach().requires_grad_(True), rather than torch.tensor(sourceTensor).\n",
      "  item['labels'] = torch.tensor(self.labels[idx])\n",
      "Checkpoint destination directory ./results/checkpoint-500 already exists and is non-empty. Saving will proceed but saved results may be invalid.\n"
     ]
    },
    {
     "name": "stdout",
     "output_type": "stream",
     "text": [
      "{'loss': 0.6971, 'grad_norm': 0.0732276663184166, 'learning_rate': 5e-05, 'epoch': 125.0}\n"
     ]
    },
    {
     "name": "stderr",
     "output_type": "stream",
     "text": [
      "/var/folders/cs/psfrdkk11fs7y77xly1msbxw0000gn/T/ipykernel_74194/1006235797.py:8: UserWarning: To copy construct from a tensor, it is recommended to use sourceTensor.clone().detach() or sourceTensor.clone().detach().requires_grad_(True), rather than torch.tensor(sourceTensor).\n",
      "  item = {key: torch.tensor(val[idx]) for key, val in self.encodings.items()}\n",
      "/var/folders/cs/psfrdkk11fs7y77xly1msbxw0000gn/T/ipykernel_74194/1006235797.py:9: UserWarning: To copy construct from a tensor, it is recommended to use sourceTensor.clone().detach() or sourceTensor.clone().detach().requires_grad_(True), rather than torch.tensor(sourceTensor).\n",
      "  item['labels'] = torch.tensor(self.labels[idx])\n",
      "Checkpoint destination directory ./results/checkpoint-1000 already exists and is non-empty. Saving will proceed but saved results may be invalid.\n"
     ]
    },
    {
     "name": "stdout",
     "output_type": "stream",
     "text": [
      "{'loss': 0.0027, 'grad_norm': 0.016833817586302757, 'learning_rate': 1.4285714285714285e-05, 'epoch': 250.0}\n"
     ]
    },
    {
     "name": "stderr",
     "output_type": "stream",
     "text": [
      "/var/folders/cs/psfrdkk11fs7y77xly1msbxw0000gn/T/ipykernel_74194/1006235797.py:8: UserWarning: To copy construct from a tensor, it is recommended to use sourceTensor.clone().detach() or sourceTensor.clone().detach().requires_grad_(True), rather than torch.tensor(sourceTensor).\n",
      "  item = {key: torch.tensor(val[idx]) for key, val in self.encodings.items()}\n",
      "/var/folders/cs/psfrdkk11fs7y77xly1msbxw0000gn/T/ipykernel_74194/1006235797.py:9: UserWarning: To copy construct from a tensor, it is recommended to use sourceTensor.clone().detach() or sourceTensor.clone().detach().requires_grad_(True), rather than torch.tensor(sourceTensor).\n",
      "  item['labels'] = torch.tensor(self.labels[idx])\n"
     ]
    },
    {
     "name": "stdout",
     "output_type": "stream",
     "text": [
      "{'train_runtime': 2239.3866, 'train_samples_per_second': 3.751, 'train_steps_per_second': 0.536, 'train_loss': 0.2918431257704894, 'epoch': 300.0}\n"
     ]
    },
    {
     "data": {
      "text/plain": [
       "TrainOutput(global_step=1200, training_loss=0.2918431257704894, metrics={'train_runtime': 2239.3866, 'train_samples_per_second': 3.751, 'train_steps_per_second': 0.536, 'train_loss': 0.2918431257704894, 'epoch': 300.0})"
      ]
     },
     "execution_count": 9,
     "metadata": {},
     "output_type": "execute_result"
    }
   ],
   "source": [
    "training_args = TrainingArguments(\n",
    "    output_dir='./results',          \n",
    "    num_train_epochs=epoch,              \n",
    "    per_device_train_batch_size=8,  \n",
    "    per_device_eval_batch_size=8,   \n",
    "    warmup_steps=500,                \n",
    "    weight_decay=0.01,               \n",
    "    logging_dir='./logs',            \n",
    ")\n",
    "\n",
    "trainer = Trainer(\n",
    "    model=model,\n",
    "    args=training_args,\n",
    "    train_dataset=train_dataset,\n",
    "    eval_dataset=val_dataset,\n",
    "    data_collator=data_collator  # Ajoutez le data collator ici\n",
    ")\n",
    "\n",
    "\n",
    "trainer.train()"
   ]
  },
  {
   "cell_type": "code",
   "execution_count": 10,
   "metadata": {},
   "outputs": [],
   "source": [
    "with open('data/test_shuffle.txt') as f:\n",
    "    test_texts = f.read().splitlines()\n",
    "\n",
    "# Tokenisation des données de test\n",
    "test_encodings = tokenizer(test_texts, truncation=True, padding=True, max_length=512, return_tensors=\"pt\")\n",
    "\n",
    "# Prédiction\n",
    "model.eval()\n",
    "with torch.no_grad():\n",
    "    outputs = model(**test_encodings)\n",
    "\n",
    "predictions = torch.argmax(outputs.logits, dim=-1)"
   ]
  },
  {
   "cell_type": "code",
   "execution_count": 11,
   "metadata": {},
   "outputs": [],
   "source": [
    "# Convertir les indices en catégories\n",
    "predicted_categories = [categories[prediction] for prediction in predictions]\n",
    "\n",
    "# Création du DataFrame\n",
    "results_df = pd.DataFrame({\n",
    "    'ID': range(0, len(predicted_categories)),\n",
    "    'Label': predicted_categories,\n",
    "})\n",
    "results_with_sentences = pd.DataFrame({\n",
    "    'ID': range(0, len(predicted_categories)),\n",
    "    'Label': predicted_categories,\n",
    "    'Sentence': test_texts\n",
    "})\n",
    "\n",
    "# Sauvegarde en CSV\n",
    "results_df.to_csv(submission_file, index=False)\n",
    "results_with_sentences.to_csv('submissions/predicted_test_categories_with_sentences.csv', index=False)\n"
   ]
  },
  {
   "cell_type": "code",
   "execution_count": 12,
   "metadata": {},
   "outputs": [
    {
     "data": {
      "text/html": [
       "<div>\n",
       "<style scoped>\n",
       "    .dataframe tbody tr th:only-of-type {\n",
       "        vertical-align: middle;\n",
       "    }\n",
       "\n",
       "    .dataframe tbody tr th {\n",
       "        vertical-align: top;\n",
       "    }\n",
       "\n",
       "    .dataframe thead th {\n",
       "        text-align: right;\n",
       "    }\n",
       "</style>\n",
       "<table border=\"1\" class=\"dataframe\">\n",
       "  <thead>\n",
       "    <tr style=\"text-align: right;\">\n",
       "      <th></th>\n",
       "      <th>Text</th>\n",
       "      <th>Label</th>\n",
       "      <th>Probability</th>\n",
       "    </tr>\n",
       "  </thead>\n",
       "  <tbody>\n",
       "    <tr>\n",
       "      <th>0</th>\n",
       "      <td>The singer's music video featured elaborate ch...</td>\n",
       "      <td>Travel</td>\n",
       "      <td>0.964023</td>\n",
       "    </tr>\n",
       "    <tr>\n",
       "      <th>1</th>\n",
       "      <td>The singer's acoustic performance showcased th...</td>\n",
       "      <td>Entertainment</td>\n",
       "      <td>1.114668</td>\n",
       "    </tr>\n",
       "    <tr>\n",
       "      <th>2</th>\n",
       "      <td>The sports car accelerated from 0 to 60 mph in...</td>\n",
       "      <td>Finance</td>\n",
       "      <td>1.280977</td>\n",
       "    </tr>\n",
       "    <tr>\n",
       "      <th>3</th>\n",
       "      <td>The drone pilot operates the aircraft to captu...</td>\n",
       "      <td>Health</td>\n",
       "      <td>1.369325</td>\n",
       "    </tr>\n",
       "    <tr>\n",
       "      <th>4</th>\n",
       "      <td>The singer's heartfelt ballad resonated with l...</td>\n",
       "      <td>Entertainment</td>\n",
       "      <td>1.614717</td>\n",
       "    </tr>\n",
       "    <tr>\n",
       "      <th>5</th>\n",
       "      <td>The impact of cultural appropriation in fashio...</td>\n",
       "      <td>Fashion</td>\n",
       "      <td>1.639305</td>\n",
       "    </tr>\n",
       "    <tr>\n",
       "      <th>6</th>\n",
       "      <td>The singer's charity work extends beyond music...</td>\n",
       "      <td>Fashion</td>\n",
       "      <td>1.681900</td>\n",
       "    </tr>\n",
       "    <tr>\n",
       "      <th>7</th>\n",
       "      <td>The singer-songwriter performed an acoustic se...</td>\n",
       "      <td>Sports</td>\n",
       "      <td>1.684123</td>\n",
       "    </tr>\n",
       "    <tr>\n",
       "      <th>8</th>\n",
       "      <td>The importance of arts education in education ...</td>\n",
       "      <td>Health</td>\n",
       "      <td>1.752597</td>\n",
       "    </tr>\n",
       "    <tr>\n",
       "      <th>9</th>\n",
       "      <td>The impact of fashion on cultural identity is ...</td>\n",
       "      <td>Fashion</td>\n",
       "      <td>1.756463</td>\n",
       "    </tr>\n",
       "    <tr>\n",
       "      <th>10</th>\n",
       "      <td>The two parties are engaged in a bitter feud.</td>\n",
       "      <td>Politics</td>\n",
       "      <td>1.796304</td>\n",
       "    </tr>\n",
       "    <tr>\n",
       "      <th>11</th>\n",
       "      <td>The mayor announced a new initiative to improv...</td>\n",
       "      <td>Politics</td>\n",
       "      <td>1.830779</td>\n",
       "    </tr>\n",
       "    <tr>\n",
       "      <th>12</th>\n",
       "      <td>The sports academy recruits talented athletes ...</td>\n",
       "      <td>Sports</td>\n",
       "      <td>1.850227</td>\n",
       "    </tr>\n",
       "    <tr>\n",
       "      <th>13</th>\n",
       "      <td>The impact of fashion on cultural appropriatio...</td>\n",
       "      <td>Environment</td>\n",
       "      <td>1.860339</td>\n",
       "    </tr>\n",
       "    <tr>\n",
       "      <th>14</th>\n",
       "      <td>The soccer coach emphasized teamwork and commu...</td>\n",
       "      <td>Sports</td>\n",
       "      <td>1.893093</td>\n",
       "    </tr>\n",
       "    <tr>\n",
       "      <th>15</th>\n",
       "      <td>The importance of extracurricular activities i...</td>\n",
       "      <td>Technology</td>\n",
       "      <td>1.935766</td>\n",
       "    </tr>\n",
       "    <tr>\n",
       "      <th>16</th>\n",
       "      <td>The sports academy offers training programs fo...</td>\n",
       "      <td>Education</td>\n",
       "      <td>1.940484</td>\n",
       "    </tr>\n",
       "    <tr>\n",
       "      <th>17</th>\n",
       "      <td>The sports blog provides in-depth coverage of ...</td>\n",
       "      <td>Technology</td>\n",
       "      <td>1.945314</td>\n",
       "    </tr>\n",
       "    <tr>\n",
       "      <th>18</th>\n",
       "      <td>The importance of ethical labor practices in f...</td>\n",
       "      <td>Finance</td>\n",
       "      <td>2.082503</td>\n",
       "    </tr>\n",
       "    <tr>\n",
       "      <th>19</th>\n",
       "      <td>The equestrian rider cleared the obstacles wit...</td>\n",
       "      <td>Travel</td>\n",
       "      <td>2.106975</td>\n",
       "    </tr>\n",
       "  </tbody>\n",
       "</table>\n",
       "</div>"
      ],
      "text/plain": [
       "                                                 Text          Label  \\\n",
       "0   The singer's music video featured elaborate ch...         Travel   \n",
       "1   The singer's acoustic performance showcased th...  Entertainment   \n",
       "2   The sports car accelerated from 0 to 60 mph in...        Finance   \n",
       "3   The drone pilot operates the aircraft to captu...         Health   \n",
       "4   The singer's heartfelt ballad resonated with l...  Entertainment   \n",
       "5   The impact of cultural appropriation in fashio...        Fashion   \n",
       "6   The singer's charity work extends beyond music...        Fashion   \n",
       "7   The singer-songwriter performed an acoustic se...         Sports   \n",
       "8   The importance of arts education in education ...         Health   \n",
       "9   The impact of fashion on cultural identity is ...        Fashion   \n",
       "10      The two parties are engaged in a bitter feud.       Politics   \n",
       "11  The mayor announced a new initiative to improv...       Politics   \n",
       "12  The sports academy recruits talented athletes ...         Sports   \n",
       "13  The impact of fashion on cultural appropriatio...    Environment   \n",
       "14  The soccer coach emphasized teamwork and commu...         Sports   \n",
       "15  The importance of extracurricular activities i...     Technology   \n",
       "16  The sports academy offers training programs fo...      Education   \n",
       "17  The sports blog provides in-depth coverage of ...     Technology   \n",
       "18  The importance of ethical labor practices in f...        Finance   \n",
       "19  The equestrian rider cleared the obstacles wit...         Travel   \n",
       "\n",
       "    Probability  \n",
       "0      0.964023  \n",
       "1      1.114668  \n",
       "2      1.280977  \n",
       "3      1.369325  \n",
       "4      1.614717  \n",
       "5      1.639305  \n",
       "6      1.681900  \n",
       "7      1.684123  \n",
       "8      1.752597  \n",
       "9      1.756463  \n",
       "10     1.796304  \n",
       "11     1.830779  \n",
       "12     1.850227  \n",
       "13     1.860339  \n",
       "14     1.893093  \n",
       "15     1.935766  \n",
       "16     1.940484  \n",
       "17     1.945314  \n",
       "18     2.082503  \n",
       "19     2.106975  "
      ]
     },
     "execution_count": 12,
     "metadata": {},
     "output_type": "execute_result"
    }
   ],
   "source": [
    "import pandas as pd\n",
    "# Obtenir les probabilités maximales pour chaque prédiction\n",
    "max_probs, _ = torch.max(outputs.logits, dim=1)\n",
    "\n",
    "# Obtenir les indices des instances avec la plus petite confiance\n",
    "sorted_indices = torch.argsort(max_probs, descending=False)\n",
    "\n",
    "# Obtenir les phrases, les labels et les probabilités correspondants\n",
    "sorted_texts = [test_texts[i] for i in sorted_indices]\n",
    "sorted_labels = [predicted_categories[i] for i in sorted_indices]\n",
    "sorted_probs = max_probs[sorted_indices]\n",
    "\n",
    "# Créer un DataFrame à partir des listes\n",
    "df = pd.DataFrame({\n",
    "    'Text': sorted_texts[:n_correction],\n",
    "    'Label': sorted_labels[:n_correction],\n",
    "    'Probability': [prob.item() for prob in sorted_probs[:n_correction]]\n",
    "})\n",
    "\n",
    "# Afficher le DataFrame\n",
    "df"
   ]
  },
  {
   "cell_type": "code",
   "execution_count": 13,
   "metadata": {},
   "outputs": [
    {
     "name": "stdout",
     "output_type": "stream",
     "text": [
      "Text: The singer's music video featured elaborate choreography and stunning visuals., Original Label: Travel\n"
     ]
    },
    {
     "data": {
      "application/vnd.jupyter.widget-view+json": {
       "model_id": "a91756a6bd184e2d881e1a51f3c37de5",
       "version_major": 2,
       "version_minor": 0
      },
      "text/plain": [
       "Text(value='', continuous_update=False, description='Correction:', placeholder=\"Entrez le label correct s'il y…"
      ]
     },
     "metadata": {},
     "output_type": "display_data"
    },
    {
     "name": "stdout",
     "output_type": "stream",
     "text": [
      "Text: The singer's acoustic performance showcased their raw talent and emotion., Original Label: Entertainment\n"
     ]
    },
    {
     "data": {
      "application/vnd.jupyter.widget-view+json": {
       "model_id": "e177bab6a70543d08ced25712b1c5106",
       "version_major": 2,
       "version_minor": 0
      },
      "text/plain": [
       "Text(value='', continuous_update=False, description='Correction:', placeholder=\"Entrez le label correct s'il y…"
      ]
     },
     "metadata": {},
     "output_type": "display_data"
    },
    {
     "name": "stdout",
     "output_type": "stream",
     "text": [
      "Text: The sports car accelerated from 0 to 60 mph in just a few seconds., Original Label: Finance\n"
     ]
    },
    {
     "data": {
      "application/vnd.jupyter.widget-view+json": {
       "model_id": "7612f0cf68254f0c9e61302866afe958",
       "version_major": 2,
       "version_minor": 0
      },
      "text/plain": [
       "Text(value='', continuous_update=False, description='Correction:', placeholder=\"Entrez le label correct s'il y…"
      ]
     },
     "metadata": {},
     "output_type": "display_data"
    },
    {
     "name": "stdout",
     "output_type": "stream",
     "text": [
      "Text: The drone pilot operates the aircraft to capture aerial footage for film and television., Original Label: Health\n"
     ]
    },
    {
     "data": {
      "application/vnd.jupyter.widget-view+json": {
       "model_id": "bc29a6f050a84f09ba99224301f1ba15",
       "version_major": 2,
       "version_minor": 0
      },
      "text/plain": [
       "Text(value='', continuous_update=False, description='Correction:', placeholder=\"Entrez le label correct s'il y…"
      ]
     },
     "metadata": {},
     "output_type": "display_data"
    },
    {
     "name": "stdout",
     "output_type": "stream",
     "text": [
      "Text: The singer's heartfelt ballad resonated with listeners on an emotional level., Original Label: Entertainment\n"
     ]
    },
    {
     "data": {
      "application/vnd.jupyter.widget-view+json": {
       "model_id": "13b8601480b2424cb47a2c24a58c8ee3",
       "version_major": 2,
       "version_minor": 0
      },
      "text/plain": [
       "Text(value='', continuous_update=False, description='Correction:', placeholder=\"Entrez le label correct s'il y…"
      ]
     },
     "metadata": {},
     "output_type": "display_data"
    },
    {
     "name": "stdout",
     "output_type": "stream",
     "text": [
      "Text: The impact of cultural appropriation in fashion is a topic of ongoing debate., Original Label: Fashion\n"
     ]
    },
    {
     "data": {
      "application/vnd.jupyter.widget-view+json": {
       "model_id": "a2fdc94a147b4d989f824558b919f71a",
       "version_major": 2,
       "version_minor": 0
      },
      "text/plain": [
       "Text(value='', continuous_update=False, description='Correction:', placeholder=\"Entrez le label correct s'il y…"
      ]
     },
     "metadata": {},
     "output_type": "display_data"
    },
    {
     "name": "stdout",
     "output_type": "stream",
     "text": [
      "Text: The singer's charity work extends beyond music to support various causes., Original Label: Fashion\n"
     ]
    },
    {
     "data": {
      "application/vnd.jupyter.widget-view+json": {
       "model_id": "7161068957be4a61abb7f4248c562162",
       "version_major": 2,
       "version_minor": 0
      },
      "text/plain": [
       "Text(value='', continuous_update=False, description='Correction:', placeholder=\"Entrez le label correct s'il y…"
      ]
     },
     "metadata": {},
     "output_type": "display_data"
    },
    {
     "name": "stdout",
     "output_type": "stream",
     "text": [
      "Text: The singer-songwriter performed an acoustic set at a small venue., Original Label: Sports\n"
     ]
    },
    {
     "data": {
      "application/vnd.jupyter.widget-view+json": {
       "model_id": "52a9d2232c9d4f44b1756c19b36c8a8f",
       "version_major": 2,
       "version_minor": 0
      },
      "text/plain": [
       "Text(value='', continuous_update=False, description='Correction:', placeholder=\"Entrez le label correct s'il y…"
      ]
     },
     "metadata": {},
     "output_type": "display_data"
    },
    {
     "name": "stdout",
     "output_type": "stream",
     "text": [
      "Text: The importance of arts education in education cannot be overemphasized., Original Label: Health\n"
     ]
    },
    {
     "data": {
      "application/vnd.jupyter.widget-view+json": {
       "model_id": "0dd850dbec1d42daadfdb31f2462da7d",
       "version_major": 2,
       "version_minor": 0
      },
      "text/plain": [
       "Text(value='', continuous_update=False, description='Correction:', placeholder=\"Entrez le label correct s'il y…"
      ]
     },
     "metadata": {},
     "output_type": "display_data"
    },
    {
     "name": "stdout",
     "output_type": "stream",
     "text": [
      "Text: The impact of fashion on cultural identity is a topic of ongoing concern., Original Label: Fashion\n"
     ]
    },
    {
     "data": {
      "application/vnd.jupyter.widget-view+json": {
       "model_id": "f83a9ab7ca514e539a075d04e86669dd",
       "version_major": 2,
       "version_minor": 0
      },
      "text/plain": [
       "Text(value='', continuous_update=False, description='Correction:', placeholder=\"Entrez le label correct s'il y…"
      ]
     },
     "metadata": {},
     "output_type": "display_data"
    },
    {
     "name": "stdout",
     "output_type": "stream",
     "text": [
      "Text: The two parties are engaged in a bitter feud., Original Label: Politics\n"
     ]
    },
    {
     "data": {
      "application/vnd.jupyter.widget-view+json": {
       "model_id": "c625b06d148b444fab1ef2175d508063",
       "version_major": 2,
       "version_minor": 0
      },
      "text/plain": [
       "Text(value='', continuous_update=False, description='Correction:', placeholder=\"Entrez le label correct s'il y…"
      ]
     },
     "metadata": {},
     "output_type": "display_data"
    },
    {
     "name": "stdout",
     "output_type": "stream",
     "text": [
      "Text: The mayor announced a new initiative to improve public transportation., Original Label: Politics\n"
     ]
    },
    {
     "data": {
      "application/vnd.jupyter.widget-view+json": {
       "model_id": "3ae9eb3a95894f6494a71f28a2f261a9",
       "version_major": 2,
       "version_minor": 0
      },
      "text/plain": [
       "Text(value='', continuous_update=False, description='Correction:', placeholder=\"Entrez le label correct s'il y…"
      ]
     },
     "metadata": {},
     "output_type": "display_data"
    },
    {
     "name": "stdout",
     "output_type": "stream",
     "text": [
      "Text: The sports academy recruits talented athletes from across the country., Original Label: Sports\n"
     ]
    },
    {
     "data": {
      "application/vnd.jupyter.widget-view+json": {
       "model_id": "28adc19cc02944c9bea5793ffb4b2ebb",
       "version_major": 2,
       "version_minor": 0
      },
      "text/plain": [
       "Text(value='', continuous_update=False, description='Correction:', placeholder=\"Entrez le label correct s'il y…"
      ]
     },
     "metadata": {},
     "output_type": "display_data"
    },
    {
     "name": "stdout",
     "output_type": "stream",
     "text": [
      "Text: The impact of fashion on cultural appropriation is a topic of ongoing debate., Original Label: Environment\n"
     ]
    },
    {
     "data": {
      "application/vnd.jupyter.widget-view+json": {
       "model_id": "a61c92c9c8e24479b6d528f36c64dd60",
       "version_major": 2,
       "version_minor": 0
      },
      "text/plain": [
       "Text(value='', continuous_update=False, description='Correction:', placeholder=\"Entrez le label correct s'il y…"
      ]
     },
     "metadata": {},
     "output_type": "display_data"
    },
    {
     "name": "stdout",
     "output_type": "stream",
     "text": [
      "Text: The soccer coach emphasized teamwork and communication on the field., Original Label: Sports\n"
     ]
    },
    {
     "data": {
      "application/vnd.jupyter.widget-view+json": {
       "model_id": "affb5935f2f748708e9755ef035914e7",
       "version_major": 2,
       "version_minor": 0
      },
      "text/plain": [
       "Text(value='', continuous_update=False, description='Correction:', placeholder=\"Entrez le label correct s'il y…"
      ]
     },
     "metadata": {},
     "output_type": "display_data"
    },
    {
     "name": "stdout",
     "output_type": "stream",
     "text": [
      "Text: The importance of extracurricular activities in education cannot be overemphasized., Original Label: Technology\n"
     ]
    },
    {
     "data": {
      "application/vnd.jupyter.widget-view+json": {
       "model_id": "342f46c1c727439d97b5eea5cf5c5cf5",
       "version_major": 2,
       "version_minor": 0
      },
      "text/plain": [
       "Text(value='', continuous_update=False, description='Correction:', placeholder=\"Entrez le label correct s'il y…"
      ]
     },
     "metadata": {},
     "output_type": "display_data"
    },
    {
     "name": "stdout",
     "output_type": "stream",
     "text": [
      "Text: The sports academy offers training programs for aspiring athletes., Original Label: Education\n"
     ]
    },
    {
     "data": {
      "application/vnd.jupyter.widget-view+json": {
       "model_id": "c03a80ef4b714240939f6dc22b5747b0",
       "version_major": 2,
       "version_minor": 0
      },
      "text/plain": [
       "Text(value='', continuous_update=False, description='Correction:', placeholder=\"Entrez le label correct s'il y…"
      ]
     },
     "metadata": {},
     "output_type": "display_data"
    },
    {
     "name": "stdout",
     "output_type": "stream",
     "text": [
      "Text: The sports blog provides in-depth coverage of the latest events., Original Label: Technology\n"
     ]
    },
    {
     "data": {
      "application/vnd.jupyter.widget-view+json": {
       "model_id": "9ccb9ad6eea74f7c923c6ce37c37c44c",
       "version_major": 2,
       "version_minor": 0
      },
      "text/plain": [
       "Text(value='', continuous_update=False, description='Correction:', placeholder=\"Entrez le label correct s'il y…"
      ]
     },
     "metadata": {},
     "output_type": "display_data"
    },
    {
     "name": "stdout",
     "output_type": "stream",
     "text": [
      "Text: The importance of ethical labor practices in fashion cannot be overstated., Original Label: Finance\n"
     ]
    },
    {
     "data": {
      "application/vnd.jupyter.widget-view+json": {
       "model_id": "f800551337fc4813a1c2ae88b3d890c0",
       "version_major": 2,
       "version_minor": 0
      },
      "text/plain": [
       "Text(value='', continuous_update=False, description='Correction:', placeholder=\"Entrez le label correct s'il y…"
      ]
     },
     "metadata": {},
     "output_type": "display_data"
    },
    {
     "name": "stdout",
     "output_type": "stream",
     "text": [
      "Text: The equestrian rider cleared the obstacles with precision and grace., Original Label: Travel\n"
     ]
    },
    {
     "data": {
      "application/vnd.jupyter.widget-view+json": {
       "model_id": "1889f5de85cb4055ab5a84eb0355428a",
       "version_major": 2,
       "version_minor": 0
      },
      "text/plain": [
       "Text(value='', continuous_update=False, description='Correction:', placeholder=\"Entrez le label correct s'il y…"
      ]
     },
     "metadata": {},
     "output_type": "display_data"
    }
   ],
   "source": [
    "from IPython.display import display\n",
    "import ipywidgets as widgets\n",
    "\n",
    "# Créer une liste pour stocker les widgets de saisie, pour pouvoir extraire les données plus tard\n",
    "input_widgets = {}\n",
    "corrected_labels = []\n",
    "\n",
    "# Afficher les textes et préparer les widgets de correction\n",
    "for idx, (text, label) in enumerate(zip(sorted_texts[:n_correction], sorted_labels[:n_correction])):\n",
    "    print(f'Text: {text}, Original Label: {label}')\n",
    "    input_widget = widgets.Text(\n",
    "        value='',\n",
    "        placeholder='Entrez le label correct s\\'il y a une erreur',\n",
    "        description='Correction:',\n",
    "        continuous_update=False\n",
    "    )\n",
    "    display(input_widget)\n",
    "    input_widgets[idx] = (input_widget, label, text)  # stocker le widget avec le label original et le texte\n",
    "\n",
    "#[\"Politics\", \"Health\", \"Finance\", \"Travel\", \"Food\", \"Education\", \"Environment\", \"Fashion\", \"Science\", \"Sports\", \"Technology\", \"Entertainment\"]\n"
   ]
  },
  {
   "cell_type": "code",
   "execution_count": 16,
   "metadata": {},
   "outputs": [
    {
     "data": {
      "application/vnd.jupyter.widget-view+json": {
       "model_id": "fd6bd5ae94da447695ed83f9b95b7024",
       "version_major": 2,
       "version_minor": 0
      },
      "text/plain": [
       "Button(description='Process Corrections', style=ButtonStyle())"
      ]
     },
     "metadata": {},
     "output_type": "display_data"
    },
    {
     "name": "stdout",
     "output_type": "stream",
     "text": [
      "Corrected Text: The singer's music video featured elaborate choreography and stunning visuals., Corrected Label: Entertainment\n",
      "Corrected Text: The singer's acoustic performance showcased their raw talent and emotion., Corrected Label: Entertainment\n",
      "Corrected Text: The sports car accelerated from 0 to 60 mph in just a few seconds., Corrected Label: Sports\n",
      "Corrected Text: The drone pilot operates the aircraft to capture aerial footage for film and television., Corrected Label: Technology\n",
      "Corrected Text: The singer's heartfelt ballad resonated with listeners on an emotional level., Corrected Label: Entertainment\n",
      "Corrected Text: The impact of cultural appropriation in fashion is a topic of ongoing debate., Corrected Label: Fashion\n",
      "Corrected Text: The singer's charity work extends beyond music to support various causes., Corrected Label: Entertainment\n",
      "Corrected Text: The singer-songwriter performed an acoustic set at a small venue., Corrected Label: Entertainment\n",
      "Corrected Text: The importance of arts education in education cannot be overemphasized., Corrected Label: Education\n",
      "Corrected Text: The impact of fashion on cultural identity is a topic of ongoing concern., Corrected Label: Fashion\n",
      "Corrected Text: The two parties are engaged in a bitter feud., Corrected Label: Politics\n",
      "Corrected Text: The mayor announced a new initiative to improve public transportation., Corrected Label: Politics\n",
      "Corrected Text: The sports academy recruits talented athletes from across the country., Corrected Label: Sports\n",
      "Corrected Text: The impact of fashion on cultural appropriation is a topic of ongoing debate., Corrected Label: Fashion\n",
      "Corrected Text: The soccer coach emphasized teamwork and communication on the field., Corrected Label: Sports\n",
      "Corrected Text: The importance of extracurricular activities in education cannot be overemphasized., Corrected Label: Education\n",
      "Corrected Text: The sports academy offers training programs for aspiring athletes., Corrected Label: Sports\n",
      "Corrected Text: The sports blog provides in-depth coverage of the latest events., Corrected Label: Sports\n",
      "Corrected Text: The importance of ethical labor practices in fashion cannot be overstated., Corrected Label: Fashion\n",
      "Corrected Text: The equestrian rider cleared the obstacles with precision and grace., Corrected Label: Sports\n",
      "\n",
      "Récapitulatif des corrections :\n",
      "Text: The singer's music video featured elaborate choreography and stunning visuals., Label: Entertainment\n",
      "Text: The singer's acoustic performance showcased their raw talent and emotion., Label: Entertainment\n",
      "Text: The sports car accelerated from 0 to 60 mph in just a few seconds., Label: Sports\n",
      "Text: The drone pilot operates the aircraft to capture aerial footage for film and television., Label: Technology\n",
      "Text: The singer's heartfelt ballad resonated with listeners on an emotional level., Label: Entertainment\n",
      "Text: The impact of cultural appropriation in fashion is a topic of ongoing debate., Label: Fashion\n",
      "Text: The singer's charity work extends beyond music to support various causes., Label: Entertainment\n",
      "Text: The singer-songwriter performed an acoustic set at a small venue., Label: Entertainment\n",
      "Text: The importance of arts education in education cannot be overemphasized., Label: Education\n",
      "Text: The impact of fashion on cultural identity is a topic of ongoing concern., Label: Fashion\n",
      "Text: The two parties are engaged in a bitter feud., Label: Politics\n",
      "Text: The mayor announced a new initiative to improve public transportation., Label: Politics\n",
      "Text: The sports academy recruits talented athletes from across the country., Label: Sports\n",
      "Text: The impact of fashion on cultural appropriation is a topic of ongoing debate., Label: Fashion\n",
      "Text: The soccer coach emphasized teamwork and communication on the field., Label: Sports\n",
      "Text: The importance of extracurricular activities in education cannot be overemphasized., Label: Education\n",
      "Text: The sports academy offers training programs for aspiring athletes., Label: Sports\n",
      "Text: The sports blog provides in-depth coverage of the latest events., Label: Sports\n",
      "Text: The importance of ethical labor practices in fashion cannot be overstated., Label: Fashion\n",
      "Text: The equestrian rider cleared the obstacles with precision and grace., Label: Sports\n"
     ]
    }
   ],
   "source": [
    "from IPython.display import display\n",
    "import ipywidgets as widgets\n",
    "import torch\n",
    "\n",
    "# Préparation pour les variables globales\n",
    "global corrected_texts, corrected_labels\n",
    "\n",
    "# Initialiser les listes vides\n",
    "corrected_texts = []\n",
    "corrected_labels = []\n",
    "\n",
    "def process_corrections():\n",
    "    global corrected_texts, corrected_labels\n",
    "    corrected_texts = []\n",
    "    corrected_labels = []\n",
    "    \n",
    "    for idx, (widget, original_label, text) in input_widgets.items():\n",
    "        corrected_label = widget.value if widget.value else original_label\n",
    "        corrected_labels.append(corrected_label)\n",
    "        corrected_texts.append(text)\n",
    "        print(f'Corrected Text: {text}, Corrected Label: {corrected_label}')\n",
    "\n",
    "    # Affichage pour vérification\n",
    "    print(\"\\nRécapitulatif des corrections :\")\n",
    "    for text, label in zip(corrected_texts, corrected_labels):\n",
    "        print(f'Text: {text}, Label: {label}')\n",
    "\n",
    "# Bouton pour traiter les corrections\n",
    "process_button = widgets.Button(description=\"Process Corrections\")\n",
    "process_button.on_click(lambda b: process_corrections())\n",
    "display(process_button)\n"
   ]
  },
  {
   "cell_type": "code",
   "execution_count": 17,
   "metadata": {},
   "outputs": [
    {
     "name": "stdout",
     "output_type": "stream",
     "text": [
      "The singer's music video featured elaborate choreography and stunning visuals. Entertainment\n",
      "tensor([11, 11,  9, 10, 11,  7, 11, 11,  5,  7,  0,  0,  9,  7,  9,  5,  9,  9,\n",
      "         7,  9])\n"
     ]
    }
   ],
   "source": [
    "# Assurez-vous que `process_corrections()` a été exécuté et les listes remplies\n",
    "if corrected_texts and corrected_labels:\n",
    "    # Tokenisation des textes corrigés\n",
    "\n",
    "    print(corrected_texts[0], corrected_labels[0])\n",
    "    corrected_encodings = tokenizer(corrected_texts, padding=True, truncation=True, max_length=512, return_tensors=\"pt\")\n",
    "    corrected_labels_indices = torch.tensor([categories.index(label) for label in corrected_labels])\n",
    "\n",
    "    # Création du dataset pour les instances corrigées\n",
    "    corrected_dataset = Dataset(corrected_encodings, corrected_labels_indices)\n",
    "\n",
    "print(corrected_labels_indices)\n"
   ]
  },
  {
   "cell_type": "code",
   "execution_count": 18,
   "metadata": {},
   "outputs": [
    {
     "name": "stdout",
     "output_type": "stream",
     "text": [
      "Data at index 0 is: {'input_ids': tensor([ 101, 1996, 3664, 2623, 1037, 2047, 6349, 2000, 5335, 2270, 5193, 1012,\n",
      "         102,    0,    0,    0,    0,    0,    0,    0]), 'token_type_ids': tensor([0, 0, 0, 0, 0, 0, 0, 0, 0, 0, 0, 0, 0, 0, 0, 0, 0, 0, 0, 0]), 'attention_mask': tensor([1, 1, 1, 1, 1, 1, 1, 1, 1, 1, 1, 1, 1, 0, 0, 0, 0, 0, 0, 0]), 'labels': tensor(0)}\n",
      "Data at index 1 is: {'input_ids': tensor([  101,  1996,  5205,  2003,  5307,  6256,  2005,  2014, 11032,  2006,\n",
      "         1996,  3522,  3021,  1012,   102,     0,     0,     0,     0,     0]), 'token_type_ids': tensor([0, 0, 0, 0, 0, 0, 0, 0, 0, 0, 0, 0, 0, 0, 0, 0, 0, 0, 0, 0]), 'attention_mask': tensor([1, 1, 1, 1, 1, 1, 1, 1, 1, 1, 1, 1, 1, 1, 1, 0, 0, 0, 0, 0]), 'labels': tensor(0)}\n",
      "Data at index 2 is: {'input_ids': tensor([  101,  1996,  9046,  2602,  2038, 13977,  6387, 14379,  2426,  1996,\n",
      "         5347,  1012,   102,     0,     0,     0,     0,     0,     0,     0]), 'token_type_ids': tensor([0, 0, 0, 0, 0, 0, 0, 0, 0, 0, 0, 0, 0, 0, 0, 0, 0, 0, 0, 0]), 'attention_mask': tensor([1, 1, 1, 1, 1, 1, 1, 1, 1, 1, 1, 1, 1, 0, 0, 0, 0, 0, 0, 0]), 'labels': tensor(0)}\n",
      "Data at index 3 is: {'input_ids': tensor([  101,  3180,  6912,  1998,  1037, 12042,  8738,  2024,  3145,  2000,\n",
      "         8498,  2204,  2740,  1012,   102,     0,     0,     0,     0,     0]), 'token_type_ids': tensor([0, 0, 0, 0, 0, 0, 0, 0, 0, 0, 0, 0, 0, 0, 0, 0, 0, 0, 0, 0]), 'attention_mask': tensor([1, 1, 1, 1, 1, 1, 1, 1, 1, 1, 1, 1, 1, 1, 1, 0, 0, 0, 0, 0]), 'labels': tensor(1)}\n",
      "Data at index 4 is: {'input_ids': tensor([  101,  1996,  2088,  2740,  3029,  2038,  3843,  2047, 11594,  2006,\n",
      "         2522, 17258,  1011,  2539,  1012,   102,     0,     0,     0,     0]), 'token_type_ids': tensor([0, 0, 0, 0, 0, 0, 0, 0, 0, 0, 0, 0, 0, 0, 0, 0, 0, 0, 0, 0]), 'attention_mask': tensor([1, 1, 1, 1, 1, 1, 1, 1, 1, 1, 1, 1, 1, 1, 1, 1, 0, 0, 0, 0]), 'labels': tensor(1)}\n",
      "Data at index 5 is: {'input_ids': tensor([  101,  1037,  2047,  2817,  7657,  1996,  6666,  1997, 13804,  2005,\n",
      "         5177,  2740,  1012,   102,     0,     0,     0,     0,     0,     0]), 'token_type_ids': tensor([0, 0, 0, 0, 0, 0, 0, 0, 0, 0, 0, 0, 0, 0, 0, 0, 0, 0, 0, 0]), 'attention_mask': tensor([1, 1, 1, 1, 1, 1, 1, 1, 1, 1, 1, 1, 1, 1, 0, 0, 0, 0, 0, 0]), 'labels': tensor(1)}\n",
      "Data at index 6 is: {'input_ids': tensor([ 101, 1996, 4518, 3006, 2387, 1037, 3278, 4530, 2206, 1996, 8874, 1012,\n",
      "         102,    0,    0,    0,    0,    0,    0,    0]), 'token_type_ids': tensor([0, 0, 0, 0, 0, 0, 0, 0, 0, 0, 0, 0, 0, 0, 0, 0, 0, 0, 0, 0]), 'attention_mask': tensor([1, 1, 1, 1, 1, 1, 1, 1, 1, 1, 1, 1, 1, 0, 0, 0, 0, 0, 0, 0]), 'labels': tensor(2)}\n",
      "Data at index 7 is: {'input_ids': tensor([  101, 19920,  1999,  2613,  3776,  2064,  2022,  1037, 15282,  6957,\n",
      "         2065,  2589, 11178,  1012,   102,     0,     0,     0,     0,     0]), 'token_type_ids': tensor([0, 0, 0, 0, 0, 0, 0, 0, 0, 0, 0, 0, 0, 0, 0, 0, 0, 0, 0, 0]), 'attention_mask': tensor([1, 1, 1, 1, 1, 1, 1, 1, 1, 1, 1, 1, 1, 1, 1, 0, 0, 0, 0, 0]), 'labels': tensor(2)}\n",
      "Data at index 8 is: {'input_ids': tensor([  101,  1996,  2194,  1005,  1055, 11372,  2031, 11515,  2144,  1996,\n",
      "         4888,  1997,  2037,  2047,  4031,  1012,   102,     0,     0,     0]), 'token_type_ids': tensor([0, 0, 0, 0, 0, 0, 0, 0, 0, 0, 0, 0, 0, 0, 0, 0, 0, 0, 0, 0]), 'attention_mask': tensor([1, 1, 1, 1, 1, 1, 1, 1, 1, 1, 1, 1, 1, 1, 1, 1, 1, 0, 0, 0]), 'labels': tensor(2)}\n",
      "Data at index 9 is: {'input_ids': tensor([  101,  5873,  1996,  2882,  8399,  2003,  1037,  3052, 17904,  3325,\n",
      "         1012,   102,     0,     0,     0,     0,     0,     0,     0,     0]), 'token_type_ids': tensor([0, 0, 0, 0, 0, 0, 0, 0, 0, 0, 0, 0, 0, 0, 0, 0, 0, 0, 0, 0]), 'attention_mask': tensor([1, 1, 1, 1, 1, 1, 1, 1, 1, 1, 1, 1, 0, 0, 0, 0, 0, 0, 0, 0]), 'labels': tensor(3)}\n",
      "Data at index 10 is: {'input_ids': tensor([  101,  1996,  6813,  3068,  2038,  2042,  8949, 19209,  2011,  1996,\n",
      "         6090,  3207,  7712,  1012,   102,     0,     0,     0,     0,     0]), 'token_type_ids': tensor([0, 0, 0, 0, 0, 0, 0, 0, 0, 0, 0, 0, 0, 0, 0, 0, 0, 0, 0, 0]), 'attention_mask': tensor([1, 1, 1, 1, 1, 1, 1, 1, 1, 1, 1, 1, 1, 1, 1, 0, 0, 0, 0, 0]), 'labels': tensor(3)}\n",
      "Data at index 11 is: {'input_ids': tensor([  101, 13383,  2075,  2083,  2885,  2003,  1037,  2759,  3601,  2005,\n",
      "         2402, 15183,  1012,   102,     0,     0,     0,     0,     0,     0]), 'token_type_ids': tensor([0, 0, 0, 0, 0, 0, 0, 0, 0, 0, 0, 0, 0, 0, 0, 0, 0, 0, 0, 0]), 'attention_mask': tensor([1, 1, 1, 1, 1, 1, 1, 1, 1, 1, 1, 1, 1, 1, 0, 0, 0, 0, 0, 0]), 'labels': tensor(3)}\n"
     ]
    },
    {
     "name": "stderr",
     "output_type": "stream",
     "text": [
      "/var/folders/cs/psfrdkk11fs7y77xly1msbxw0000gn/T/ipykernel_74194/1006235797.py:8: UserWarning: To copy construct from a tensor, it is recommended to use sourceTensor.clone().detach() or sourceTensor.clone().detach().requires_grad_(True), rather than torch.tensor(sourceTensor).\n",
      "  item = {key: torch.tensor(val[idx]) for key, val in self.encodings.items()}\n",
      "/var/folders/cs/psfrdkk11fs7y77xly1msbxw0000gn/T/ipykernel_74194/1006235797.py:9: UserWarning: To copy construct from a tensor, it is recommended to use sourceTensor.clone().detach() or sourceTensor.clone().detach().requires_grad_(True), rather than torch.tensor(sourceTensor).\n",
      "  item['labels'] = torch.tensor(self.labels[idx])\n"
     ]
    }
   ],
   "source": [
    "# Assuming `dataset` is your Dataset object\n",
    "for i, data in enumerate(dataset):\n",
    "    print(f\"Data at index {i} is: {data}\")\n",
    "    if i > 10:  # Only print the first 10 elements\n",
    "        break"
   ]
  },
  {
   "cell_type": "code",
   "execution_count": 19,
   "metadata": {},
   "outputs": [],
   "source": [
    "\n",
    "# Fusionner les datasets d'entraînement originaux et corrigés\n",
    "new_train_dataset = torch.utils.data.ConcatDataset([train_dataset, corrected_dataset])"
   ]
  },
  {
   "cell_type": "code",
   "execution_count": 20,
   "metadata": {},
   "outputs": [
    {
     "name": "stdout",
     "output_type": "stream",
     "text": [
      "20\n",
      "28\n",
      "48\n"
     ]
    }
   ],
   "source": [
    "print(len(corrected_dataset))\n",
    "print(len(train_dataset))\n",
    "print(len(new_train_dataset))"
   ]
  },
  {
   "cell_type": "code",
   "execution_count": 26,
   "metadata": {},
   "outputs": [
    {
     "name": "stderr",
     "output_type": "stream",
     "text": [
      "/Users/huacindy/.pyenv/versions/3.9.13/envs/project1/lib/python3.9/site-packages/accelerate/accelerator.py:432: FutureWarning: Passing the following arguments to `Accelerator` is deprecated and will be removed in version 1.0 of Accelerate: dict_keys(['dispatch_batches', 'split_batches', 'even_batches', 'use_seedable_sampler']). Please pass an `accelerate.DataLoaderConfiguration` instead: \n",
      "dataloader_config = DataLoaderConfiguration(dispatch_batches=None, split_batches=False, even_batches=True, use_seedable_sampler=True)\n",
      "  warnings.warn(\n"
     ]
    },
    {
     "data": {
      "application/vnd.jupyter.widget-view+json": {
       "model_id": "4d0c7293837c4606bd1c951959e15f81",
       "version_major": 2,
       "version_minor": 0
      },
      "text/plain": [
       "  0%|          | 0/2000 [00:00<?, ?it/s]"
      ]
     },
     "metadata": {},
     "output_type": "display_data"
    },
    {
     "name": "stderr",
     "output_type": "stream",
     "text": [
      "/var/folders/cs/psfrdkk11fs7y77xly1msbxw0000gn/T/ipykernel_74194/1006235797.py:8: UserWarning: To copy construct from a tensor, it is recommended to use sourceTensor.clone().detach() or sourceTensor.clone().detach().requires_grad_(True), rather than torch.tensor(sourceTensor).\n",
      "  item = {key: torch.tensor(val[idx]) for key, val in self.encodings.items()}\n",
      "/var/folders/cs/psfrdkk11fs7y77xly1msbxw0000gn/T/ipykernel_74194/1006235797.py:9: UserWarning: To copy construct from a tensor, it is recommended to use sourceTensor.clone().detach() or sourceTensor.clone().detach().requires_grad_(True), rather than torch.tensor(sourceTensor).\n",
      "  item['labels'] = torch.tensor(self.labels[idx])\n",
      "Checkpoint destination directory ./results/checkpoint-500 already exists and is non-empty. Saving will proceed but saved results may be invalid.\n"
     ]
    },
    {
     "name": "stdout",
     "output_type": "stream",
     "text": [
      "{'loss': 0.0, 'grad_norm': 7.641436354788311e-07, 'learning_rate': 5e-05, 'epoch': 125.0}\n"
     ]
    },
    {
     "name": "stderr",
     "output_type": "stream",
     "text": [
      "/var/folders/cs/psfrdkk11fs7y77xly1msbxw0000gn/T/ipykernel_74194/1006235797.py:8: UserWarning: To copy construct from a tensor, it is recommended to use sourceTensor.clone().detach() or sourceTensor.clone().detach().requires_grad_(True), rather than torch.tensor(sourceTensor).\n",
      "  item = {key: torch.tensor(val[idx]) for key, val in self.encodings.items()}\n",
      "/var/folders/cs/psfrdkk11fs7y77xly1msbxw0000gn/T/ipykernel_74194/1006235797.py:9: UserWarning: To copy construct from a tensor, it is recommended to use sourceTensor.clone().detach() or sourceTensor.clone().detach().requires_grad_(True), rather than torch.tensor(sourceTensor).\n",
      "  item['labels'] = torch.tensor(self.labels[idx])\n",
      "Checkpoint destination directory ./results/checkpoint-1000 already exists and is non-empty. Saving will proceed but saved results may be invalid.\n"
     ]
    },
    {
     "name": "stdout",
     "output_type": "stream",
     "text": [
      "{'loss': 0.0, 'grad_norm': 4.719841513178835e-07, 'learning_rate': 3.3333333333333335e-05, 'epoch': 250.0}\n"
     ]
    },
    {
     "name": "stderr",
     "output_type": "stream",
     "text": [
      "/var/folders/cs/psfrdkk11fs7y77xly1msbxw0000gn/T/ipykernel_74194/1006235797.py:8: UserWarning: To copy construct from a tensor, it is recommended to use sourceTensor.clone().detach() or sourceTensor.clone().detach().requires_grad_(True), rather than torch.tensor(sourceTensor).\n",
      "  item = {key: torch.tensor(val[idx]) for key, val in self.encodings.items()}\n",
      "/var/folders/cs/psfrdkk11fs7y77xly1msbxw0000gn/T/ipykernel_74194/1006235797.py:9: UserWarning: To copy construct from a tensor, it is recommended to use sourceTensor.clone().detach() or sourceTensor.clone().detach().requires_grad_(True), rather than torch.tensor(sourceTensor).\n",
      "  item['labels'] = torch.tensor(self.labels[idx])\n",
      "Checkpoint destination directory ./results/checkpoint-1500 already exists and is non-empty. Saving will proceed but saved results may be invalid.\n"
     ]
    },
    {
     "name": "stdout",
     "output_type": "stream",
     "text": [
      "{'loss': 0.0, 'grad_norm': 3.267794852490624e-07, 'learning_rate': 1.6666666666666667e-05, 'epoch': 375.0}\n"
     ]
    },
    {
     "name": "stderr",
     "output_type": "stream",
     "text": [
      "/var/folders/cs/psfrdkk11fs7y77xly1msbxw0000gn/T/ipykernel_74194/1006235797.py:8: UserWarning: To copy construct from a tensor, it is recommended to use sourceTensor.clone().detach() or sourceTensor.clone().detach().requires_grad_(True), rather than torch.tensor(sourceTensor).\n",
      "  item = {key: torch.tensor(val[idx]) for key, val in self.encodings.items()}\n",
      "/var/folders/cs/psfrdkk11fs7y77xly1msbxw0000gn/T/ipykernel_74194/1006235797.py:9: UserWarning: To copy construct from a tensor, it is recommended to use sourceTensor.clone().detach() or sourceTensor.clone().detach().requires_grad_(True), rather than torch.tensor(sourceTensor).\n",
      "  item['labels'] = torch.tensor(self.labels[idx])\n",
      "Checkpoint destination directory ./results/checkpoint-2000 already exists and is non-empty. Saving will proceed but saved results may be invalid.\n"
     ]
    },
    {
     "name": "stdout",
     "output_type": "stream",
     "text": [
      "{'loss': 0.0, 'grad_norm': 2.7303320848659496e-07, 'learning_rate': 0.0, 'epoch': 500.0}\n",
      "{'train_runtime': 4393.4369, 'train_samples_per_second': 3.414, 'train_steps_per_second': 0.455, 'train_loss': 1.2001890399915281e-07, 'epoch': 500.0}\n"
     ]
    }
   ],
   "source": [
    "\n",
    "# Recréation de l'ensemble d'entraînement et de validation\n",
    "new_total_size = len(new_train_dataset)\n",
    "new_train_size = int(0.8 * new_total_size)\n",
    "new_val_size = new_total_size - new_train_size\n",
    "new_train_dataset, new_val_dataset = torch.utils.data.random_split(new_train_dataset, [new_train_size, new_val_size])\n",
    "\n",
    "\n",
    "training_args = TrainingArguments(\n",
    "    output_dir='./results',          \n",
    "    num_train_epochs=500,              \n",
    "    per_device_train_batch_size=8,  \n",
    "    per_device_eval_batch_size=8,   \n",
    "    warmup_steps=500,                \n",
    "    weight_decay=0.01,               \n",
    "    logging_dir='./logs',            \n",
    ")\n",
    "\n",
    "# Réinitialisation du Trainer avec les nouveaux datasets\n",
    "trainer = Trainer(\n",
    "    model=model,\n",
    "    args=training_args,\n",
    "    train_dataset=new_train_dataset,\n",
    "    eval_dataset=new_val_dataset,\n",
    "    data_collator=data_collator  # Ajoutez le data collator ici\n",
    ")\n",
    "\n",
    "\n",
    "# Réentraînement du modèle avec le nouveau dataset\n",
    "trainer.train()\n",
    "\n",
    "# Après le réentraînement, effectuer des prédictions sur le dataset de test pour évaluer les améliorations\n",
    "test_encodings = tokenizer(test_texts, truncation=True, padding=True, max_length=512, return_tensors=\"pt\")\n",
    "model.eval()\n",
    "with torch.no_grad():\n",
    "    outputs = model(**test_encodings)\n",
    "predictions = torch.argmax(outputs.logits, dim=-1)\n",
    "\n",
    "# Conversion des indices de prédictions en catégories\n",
    "predicted_categories = [categories[prediction] for prediction in predictions]\n",
    "\n"
   ]
  },
  {
   "cell_type": "code",
   "execution_count": 28,
   "metadata": {},
   "outputs": [],
   "source": [
    "\n",
    "# Création du DataFrame\n",
    "results_correction_df = pd.DataFrame({\n",
    "    'ID': range(0, len(predicted_categories)),\n",
    "    'Label': predicted_categories,\n",
    "})\n",
    "results_correction_with_sentences = pd.DataFrame({\n",
    "    'ID': range(0, len(predicted_categories)),\n",
    "    'Label': predicted_categories,\n",
    "    'Sentence': test_texts\n",
    "})\n",
    "\n",
    "# Sauvegarde en CSV\n",
    "results_correction_df.to_csv('submissions/predicted_test_correction_categories.csv', index=False)\n",
    "results_correction_with_sentences.to_csv('submissions/predicted_test_correction_categories_with_sentences.csv', index=False)\n",
    "\n",
    "\n"
   ]
  },
  {
   "cell_type": "code",
   "execution_count": 29,
   "metadata": {},
   "outputs": [
    {
     "name": "stdout",
     "output_type": "stream",
     "text": [
      "Accuracy de No correction par rapport à la baseline: 61.84%\n",
      "Accuracy de With correction par rapport à la baseline: 78.42%\n"
     ]
    }
   ],
   "source": [
    "baseline_df = pd.read_csv('data/baseline.csv')\n",
    "\n",
    "# Fusionner les dataframes sur l'ID\n",
    "merged_df = baseline_df.merge(results_df, on='ID', suffixes=('_baseline', '_file1'))\n",
    "merged_df = merged_df.merge(results_correction_df, on='ID', suffixes=('', '_file2'))\n",
    "\n",
    "# Renommer les colonnes pour plus de clarté\n",
    "merged_df.rename(columns={'Label_baseline': 'Baseline', 'Label_file1': 'File1', 'Label': 'File2'}, inplace=True)\n",
    "\n",
    "# Calculer l'accuracy pour chaque fichier par rapport à la baseline\n",
    "merged_df['Correct_File1'] = merged_df['Baseline'] == merged_df['File1']\n",
    "merged_df['Correct_File2'] = merged_df['Baseline'] == merged_df['File2']\n",
    "\n",
    "accuracy_file1 = merged_df['Correct_File1'].mean()\n",
    "accuracy_file2 = merged_df['Correct_File2'].mean()\n",
    "\n",
    "print(f\"Accuracy de No correction par rapport à la baseline: {accuracy_file1:.2%}\")\n",
    "print(f\"Accuracy de With correction par rapport à la baseline: {accuracy_file2:.2%}\")\n"
   ]
  },
  {
   "cell_type": "code",
   "execution_count": 24,
   "metadata": {},
   "outputs": [
    {
     "data": {
      "text/html": [
       "<div>\n",
       "<style scoped>\n",
       "    .dataframe tbody tr th:only-of-type {\n",
       "        vertical-align: middle;\n",
       "    }\n",
       "\n",
       "    .dataframe tbody tr th {\n",
       "        vertical-align: top;\n",
       "    }\n",
       "\n",
       "    .dataframe thead th {\n",
       "        text-align: right;\n",
       "    }\n",
       "</style>\n",
       "<table border=\"1\" class=\"dataframe\">\n",
       "  <thead>\n",
       "    <tr style=\"text-align: right;\">\n",
       "      <th></th>\n",
       "      <th>ID</th>\n",
       "      <th>Baseline</th>\n",
       "      <th>File1</th>\n",
       "      <th>File2</th>\n",
       "      <th>Correct_File1</th>\n",
       "      <th>Correct_File2</th>\n",
       "    </tr>\n",
       "  </thead>\n",
       "  <tbody>\n",
       "    <tr>\n",
       "      <th>3</th>\n",
       "      <td>3</td>\n",
       "      <td>Finance</td>\n",
       "      <td>Finance</td>\n",
       "      <td>Technology</td>\n",
       "      <td>True</td>\n",
       "      <td>False</td>\n",
       "    </tr>\n",
       "    <tr>\n",
       "      <th>6</th>\n",
       "      <td>6</td>\n",
       "      <td>Finance</td>\n",
       "      <td>Finance</td>\n",
       "      <td>Politics</td>\n",
       "      <td>True</td>\n",
       "      <td>False</td>\n",
       "    </tr>\n",
       "    <tr>\n",
       "      <th>7</th>\n",
       "      <td>7</td>\n",
       "      <td>Environment</td>\n",
       "      <td>Environment</td>\n",
       "      <td>Finance</td>\n",
       "      <td>True</td>\n",
       "      <td>False</td>\n",
       "    </tr>\n",
       "    <tr>\n",
       "      <th>8</th>\n",
       "      <td>8</td>\n",
       "      <td>Fashion</td>\n",
       "      <td>Technology</td>\n",
       "      <td>Fashion</td>\n",
       "      <td>False</td>\n",
       "      <td>True</td>\n",
       "    </tr>\n",
       "    <tr>\n",
       "      <th>13</th>\n",
       "      <td>13</td>\n",
       "      <td>Fashion</td>\n",
       "      <td>Environment</td>\n",
       "      <td>Fashion</td>\n",
       "      <td>False</td>\n",
       "      <td>True</td>\n",
       "    </tr>\n",
       "  </tbody>\n",
       "</table>\n",
       "</div>"
      ],
      "text/plain": [
       "    ID     Baseline        File1       File2  Correct_File1  Correct_File2\n",
       "3    3      Finance      Finance  Technology           True          False\n",
       "6    6      Finance      Finance    Politics           True          False\n",
       "7    7  Environment  Environment     Finance           True          False\n",
       "8    8      Fashion   Technology     Fashion          False           True\n",
       "13  13      Fashion  Environment     Fashion          False           True"
      ]
     },
     "execution_count": 24,
     "metadata": {},
     "output_type": "execute_result"
    }
   ],
   "source": [
    "incorrect_df = merged_df[~(merged_df['Correct_File2']==merged_df['Correct_File1'])]\n",
    "incorrect_df.head()"
   ]
  },
  {
   "cell_type": "code",
   "execution_count": 25,
   "metadata": {},
   "outputs": [
    {
     "data": {
      "text/html": [
       "<div>\n",
       "<style scoped>\n",
       "    .dataframe tbody tr th:only-of-type {\n",
       "        vertical-align: middle;\n",
       "    }\n",
       "\n",
       "    .dataframe tbody tr th {\n",
       "        vertical-align: top;\n",
       "    }\n",
       "\n",
       "    .dataframe thead th {\n",
       "        text-align: right;\n",
       "    }\n",
       "</style>\n",
       "<table border=\"1\" class=\"dataframe\">\n",
       "  <thead>\n",
       "    <tr style=\"text-align: right;\">\n",
       "      <th></th>\n",
       "      <th>ID</th>\n",
       "      <th>Baseline</th>\n",
       "      <th>File1</th>\n",
       "      <th>File2</th>\n",
       "      <th>Correct_File1</th>\n",
       "      <th>Correct_File2</th>\n",
       "    </tr>\n",
       "  </thead>\n",
       "  <tbody>\n",
       "    <tr>\n",
       "      <th>0</th>\n",
       "      <td>0</td>\n",
       "      <td>Finance</td>\n",
       "      <td>Finance</td>\n",
       "      <td>Finance</td>\n",
       "      <td>True</td>\n",
       "      <td>True</td>\n",
       "    </tr>\n",
       "    <tr>\n",
       "      <th>1</th>\n",
       "      <td>1</td>\n",
       "      <td>Environment</td>\n",
       "      <td>Environment</td>\n",
       "      <td>Environment</td>\n",
       "      <td>True</td>\n",
       "      <td>True</td>\n",
       "    </tr>\n",
       "    <tr>\n",
       "      <th>2</th>\n",
       "      <td>2</td>\n",
       "      <td>Science</td>\n",
       "      <td>Science</td>\n",
       "      <td>Science</td>\n",
       "      <td>True</td>\n",
       "      <td>True</td>\n",
       "    </tr>\n",
       "    <tr>\n",
       "      <th>3</th>\n",
       "      <td>3</td>\n",
       "      <td>Finance</td>\n",
       "      <td>Finance</td>\n",
       "      <td>Technology</td>\n",
       "      <td>True</td>\n",
       "      <td>False</td>\n",
       "    </tr>\n",
       "    <tr>\n",
       "      <th>4</th>\n",
       "      <td>4</td>\n",
       "      <td>Science</td>\n",
       "      <td>Environment</td>\n",
       "      <td>Technology</td>\n",
       "      <td>False</td>\n",
       "      <td>False</td>\n",
       "    </tr>\n",
       "    <tr>\n",
       "      <th>...</th>\n",
       "      <td>...</td>\n",
       "      <td>...</td>\n",
       "      <td>...</td>\n",
       "      <td>...</td>\n",
       "      <td>...</td>\n",
       "      <td>...</td>\n",
       "    </tr>\n",
       "    <tr>\n",
       "      <th>1135</th>\n",
       "      <td>1135</td>\n",
       "      <td>Entertainment</td>\n",
       "      <td>Entertainment</td>\n",
       "      <td>Entertainment</td>\n",
       "      <td>True</td>\n",
       "      <td>True</td>\n",
       "    </tr>\n",
       "    <tr>\n",
       "      <th>1136</th>\n",
       "      <td>1136</td>\n",
       "      <td>Travel</td>\n",
       "      <td>Travel</td>\n",
       "      <td>Fashion</td>\n",
       "      <td>True</td>\n",
       "      <td>False</td>\n",
       "    </tr>\n",
       "    <tr>\n",
       "      <th>1137</th>\n",
       "      <td>1137</td>\n",
       "      <td>Food</td>\n",
       "      <td>Environment</td>\n",
       "      <td>Health</td>\n",
       "      <td>False</td>\n",
       "      <td>False</td>\n",
       "    </tr>\n",
       "    <tr>\n",
       "      <th>1138</th>\n",
       "      <td>1138</td>\n",
       "      <td>Health</td>\n",
       "      <td>Health</td>\n",
       "      <td>Health</td>\n",
       "      <td>True</td>\n",
       "      <td>True</td>\n",
       "    </tr>\n",
       "    <tr>\n",
       "      <th>1139</th>\n",
       "      <td>1139</td>\n",
       "      <td>Science</td>\n",
       "      <td>Technology</td>\n",
       "      <td>Technology</td>\n",
       "      <td>False</td>\n",
       "      <td>False</td>\n",
       "    </tr>\n",
       "  </tbody>\n",
       "</table>\n",
       "<p>1140 rows × 6 columns</p>\n",
       "</div>"
      ],
      "text/plain": [
       "        ID       Baseline          File1          File2  Correct_File1  \\\n",
       "0        0        Finance        Finance        Finance           True   \n",
       "1        1    Environment    Environment    Environment           True   \n",
       "2        2        Science        Science        Science           True   \n",
       "3        3        Finance        Finance     Technology           True   \n",
       "4        4        Science    Environment     Technology          False   \n",
       "...    ...            ...            ...            ...            ...   \n",
       "1135  1135  Entertainment  Entertainment  Entertainment           True   \n",
       "1136  1136         Travel         Travel        Fashion           True   \n",
       "1137  1137           Food    Environment         Health          False   \n",
       "1138  1138         Health         Health         Health           True   \n",
       "1139  1139        Science     Technology     Technology          False   \n",
       "\n",
       "      Correct_File2  \n",
       "0              True  \n",
       "1              True  \n",
       "2              True  \n",
       "3             False  \n",
       "4             False  \n",
       "...             ...  \n",
       "1135           True  \n",
       "1136          False  \n",
       "1137          False  \n",
       "1138           True  \n",
       "1139          False  \n",
       "\n",
       "[1140 rows x 6 columns]"
      ]
     },
     "execution_count": 25,
     "metadata": {},
     "output_type": "execute_result"
    }
   ],
   "source": [
    "merged_df"
   ]
  }
 ],
 "metadata": {
  "kernelspec": {
   "display_name": "project1",
   "language": "python",
   "name": "python3"
  },
  "language_info": {
   "codemirror_mode": {
    "name": "ipython",
    "version": 3
   },
   "file_extension": ".py",
   "mimetype": "text/x-python",
   "name": "python",
   "nbconvert_exporter": "python",
   "pygments_lexer": "ipython3",
   "version": "3.9.13"
  }
 },
 "nbformat": 4,
 "nbformat_minor": 2
}
